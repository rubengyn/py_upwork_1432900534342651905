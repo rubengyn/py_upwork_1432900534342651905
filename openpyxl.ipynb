{
  "nbformat": 4,
  "nbformat_minor": 0,
  "metadata": {
    "colab": {
      "name": "openpyxl.ipynb",
      "provenance": [],
      "collapsed_sections": [],
      "authorship_tag": "ABX9TyNCV8UeMDTSXdNV7ImlHia6",
      "include_colab_link": true
    },
    "kernelspec": {
      "name": "python3",
      "display_name": "Python 3"
    },
    "language_info": {
      "name": "python"
    }
  },
  "cells": [
    {
      "cell_type": "markdown",
      "metadata": {
        "id": "view-in-github",
        "colab_type": "text"
      },
      "source": [
        "<a href=\"https://colab.research.google.com/github/rubengyn/py_upwork_1432900534342651905/blob/main/openpyxl.ipynb\" target=\"_parent\"><img src=\"https://colab.research.google.com/assets/colab-badge.svg\" alt=\"Open In Colab\"/></a>"
      ]
    },
    {
      "cell_type": "markdown",
      "metadata": {
        "id": "ywtQAvMcmsvg"
      },
      "source": [
        "Resumo:\n",
        "1. Dividir o nome firstName em dois, o primeiro nome fica no firstname e o restante no lastname\n",
        "2. na coluna email, se tiver mais que o email, exclua deixando apenas 1\n",
        "3. Se columna employeecompany, se estiver vazia adicionar o valor da coluna CompanyAlterantive"
      ]
    },
    {
      "cell_type": "markdown",
      "metadata": {
        "id": "UH0IqvgHmVUE"
      },
      "source": [
        "instalar bibliotecas"
      ]
    },
    {
      "cell_type": "code",
      "metadata": {
        "id": "6aOklA3FmI-L"
      },
      "source": [
        ""
      ],
      "execution_count": null,
      "outputs": []
    },
    {
      "cell_type": "markdown",
      "metadata": {
        "id": "exl5HFP_mZT9"
      },
      "source": [
        "importar bibliotecas"
      ]
    },
    {
      "cell_type": "code",
      "metadata": {
        "id": "5rlPLzBDmbZK"
      },
      "source": [
        "from openpyxl import Workbook, load_workbook"
      ],
      "execution_count": 1,
      "outputs": []
    },
    {
      "cell_type": "markdown",
      "metadata": {
        "id": "wpBafpQUmpXG"
      },
      "source": [
        "abrir arquivo xlsx"
      ]
    },
    {
      "cell_type": "code",
      "metadata": {
        "id": "Otd6P9MxnKJq"
      },
      "source": [
        "planilha = load_workbook('data list.xlsx')\n",
        "\n",
        "# pega a aba ativa, quando abre\n",
        "aba_ativa = planilha.active"
      ],
      "execution_count": 2,
      "outputs": []
    },
    {
      "cell_type": "markdown",
      "metadata": {
        "id": "Kb1skmy7noLp"
      },
      "source": [
        "Inserir *coluna* full name"
      ]
    },
    {
      "cell_type": "code",
      "metadata": {
        "id": "07FLHKOiqDJh"
      },
      "source": [
        "aba_ativa.insert_cols(2)\n",
        "planilha.save(\"data list2.xlsx\")"
      ],
      "execution_count": 3,
      "outputs": []
    },
    {
      "cell_type": "markdown",
      "metadata": {
        "id": "QlFWEeymrO9n"
      },
      "source": [
        "copia os dados da coluna first name para full name"
      ]
    },
    {
      "cell_type": "code",
      "metadata": {
        "id": "EvJ6_fd7r9-O"
      },
      "source": [
        "for celula in aba_ativa[\"C\"]:\n",
        "  linha = celula.row\n",
        "  if linha == 1:\n",
        "    aba_ativa['B1'] = 'full name'\n",
        "  else:\n",
        "    aba_ativa[f'B{linha}'] = str(aba_ativa[f'C{linha}'].value)"
      ],
      "execution_count": 4,
      "outputs": []
    },
    {
      "cell_type": "markdown",
      "metadata": {
        "id": "0tEpq3lnwqQI"
      },
      "source": [
        "limpar coluna first name"
      ]
    },
    {
      "cell_type": "code",
      "metadata": {
        "id": "0q8HMaSlwyxm"
      },
      "source": [
        "for celula in aba_ativa[\"C\"]:\n",
        "  linha = celula.row\n",
        "  if linha >= 1:\n",
        "    aba_ativa[f'C{linha}'] = ''"
      ],
      "execution_count": 5,
      "outputs": []
    },
    {
      "cell_type": "markdown",
      "metadata": {
        "id": "Tq205F0mxGVn"
      },
      "source": [
        "adicionar first name and last name"
      ]
    },
    {
      "cell_type": "code",
      "metadata": {
        "id": "oiW4rcKmxN8T"
      },
      "source": [
        "for celula in aba_ativa[\"B\"]:\n",
        "  \n",
        "  linha = celula.row\n",
        "  if linha >= 1:\n",
        "    name = aba_ativa[f'B{linha}'].value \n",
        "    firstName = str(name)\n",
        "    lastName = ''\n",
        "    if ' ' in str(name):\n",
        "      space = name.index(' ')\n",
        "      firstName = name[0:space]\n",
        "      lastName = name[space+1:]\n",
        "    aba_ativa[f'C{linha}'] = firstName\n",
        "    aba_ativa[f'D{linha}'] = lastName"
      ],
      "execution_count": 6,
      "outputs": []
    },
    {
      "cell_type": "markdown",
      "metadata": {
        "id": "wAM1y8NQybeg"
      },
      "source": [
        "excluir coluna 2 full name"
      ]
    },
    {
      "cell_type": "code",
      "metadata": {
        "colab": {
          "base_uri": "https://localhost:8080/"
        },
        "id": "b3m14sisyeOw",
        "outputId": "75815b46-ab17-452c-d1bf-147a458fa256"
      },
      "source": [
        "print(aba_ativa['B1'].value)\n",
        "aba_ativa.delete_cols(2, 1)\n",
        "print(aba_ativa['B1'].value)"
      ],
      "execution_count": 8,
      "outputs": [
        {
          "output_type": "stream",
          "name": "stdout",
          "text": [
            "full name\n",
            "full\n"
          ]
        }
      ]
    },
    {
      "cell_type": "markdown",
      "metadata": {
        "id": "Z98O4uXw1urf"
      },
      "source": [
        "2 etapa pegar pegar columna employeecompany, se estiver vazia adicionar o valor da coluna CompanyAlterantive"
      ]
    },
    {
      "cell_type": "code",
      "metadata": {
        "id": "M82C0HR-1wfp"
      },
      "source": [
        "for celula in aba_ativa[\"E\"]:\n",
        "   \n",
        "   \n",
        "   linha = celula.row\n",
        "   if linha > 1:\n",
        "    valor = str(aba_ativa[f'E{linha}'].value)\n",
        "    if valor == 'None':\n",
        "      aba_ativa[f'E{linha}'] = str(aba_ativa[f'F{linha}'].value)\n",
        "    else:\n",
        "      print(valor)\n",
        "\n",
        "'''\n",
        "for i in range(0,df['employeecompany'].size):\n",
        "  value = df['employeecompany'][i]\n",
        "  if pd.isnull(value):\n",
        "    df['employeecompany'][i] = df['Company Alternative'][i]\n",
        "'''"
      ],
      "execution_count": null,
      "outputs": []
    },
    {
      "cell_type": "markdown",
      "metadata": {
        "id": "aFzt27-e4sbE"
      },
      "source": [
        "verificação se foi copiado"
      ]
    },
    {
      "cell_type": "code",
      "metadata": {
        "id": "7vrr_S7r3jjp"
      },
      "source": [
        "for celula in aba_ativa[\"E\"]:\n",
        "   linha = celula.row\n",
        "   print(str(aba_ativa[f'E{linha}'].value)+':'+str(aba_ativa[f'F{linha}'].value))"
      ],
      "execution_count": null,
      "outputs": []
    },
    {
      "cell_type": "markdown",
      "metadata": {
        "id": "QxdO-_kh5IPW"
      },
      "source": [
        "3 etapa eliminar emails repetidos "
      ]
    },
    {
      "cell_type": "code",
      "metadata": {
        "id": "O97ZpNPx5G_N"
      },
      "source": [
        "for celula in aba_ativa[\"A\"]:\n",
        "  linha = celula.row\n",
        "  valor = str(aba_ativa[f'A{linha}'].value)\n",
        "  if valor != 'None':\n",
        "    if valor.count('@')>1:\n",
        "      id = valor.index(',')\n",
        "      valor = valor[0:id]\n",
        "      aba_ativa[f'A{linha}'] = valor\n"
      ],
      "execution_count": 21,
      "outputs": []
    },
    {
      "cell_type": "markdown",
      "metadata": {
        "id": "zTehULUVuNQX"
      },
      "source": [
        "Salvar planilha"
      ]
    },
    {
      "cell_type": "code",
      "metadata": {
        "id": "x0pe6wYhuL_-"
      },
      "source": [
        "planilha.save(\"data list2.xlsx\")"
      ],
      "execution_count": 22,
      "outputs": []
    }
  ]
}